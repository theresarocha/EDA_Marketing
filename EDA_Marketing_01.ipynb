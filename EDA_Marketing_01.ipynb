{
  "nbformat": 4,
  "nbformat_minor": 0,
  "metadata": {
    "colab": {
      "name": "EDA_Marketing_01",
      "provenance": [],
      "collapsed_sections": [],
      "authorship_tag": "ABX9TyMhyRFgVhOy6t4CDqwGzTuX"
    },
    "kernelspec": {
      "name": "python3",
      "display_name": "Python 3"
    },
    "language_info": {
      "name": "python"
    }
  },
  "cells": [
    {
      "cell_type": "markdown",
      "metadata": {
        "id": "wSmorl_C2aUU"
      },
      "source": [
        "#**Marketing Analytics**"
      ]
    },
    {
      "cell_type": "markdown",
      "metadata": {
        "id": "QwEII4ir2Xan"
      },
      "source": [
        "Análise exploratória de dados de uma campanha de marketing com 2240 clientes da empresa XYZ.\n",
        "Esta análise tem por objetivo responder as seguintes perguntas:\n",
        "\n",
        "- Qual o perfil de clientes desta empresa?\n",
        "- Qual campanha de marketing teve mais sucesso?\n",
        "- Quais produtos estão performando melhor? E quais estão performando pior?\n",
        "- Qual o desempenho dos canais de venda da empresa?\n",
        "- Qual a quantidade gasta em produto por país de localização do cliente?\n",
        "- Considerando o canal de vendas com melhor perfomance, qual a quantidade de compras realizadas em relação ao estado civil, grau de instrução e dependentes dos clientes?"
      ]
    },
    {
      "cell_type": "code",
      "metadata": {
        "id": "IXqGktXM15z1"
      },
      "source": [
        "#Importando o dataset\n",
        "\n",
        "import pandas as pd\n",
        "url = 'https://raw.githubusercontent.com/theresarocha/EDA_Marketing/main/dataset/marketing_data.csv'\n",
        "dados = pd.read_csv(url)"
      ],
      "execution_count": null,
      "outputs": []
    },
    {
      "cell_type": "code",
      "metadata": {
        "colab": {
          "base_uri": "https://localhost:8080/",
          "height": 226
        },
        "id": "kYjfT7y72mjK",
        "outputId": "f6dd0bd1-1701-401f-f49b-68688358702c"
      },
      "source": [
        "#Visualizando as dez primeiras linhas do dataset\n",
        "dados.head()"
      ],
      "execution_count": null,
      "outputs": [
        {
          "output_type": "execute_result",
          "data": {
            "text/html": [
              "<div>\n",
              "<style scoped>\n",
              "    .dataframe tbody tr th:only-of-type {\n",
              "        vertical-align: middle;\n",
              "    }\n",
              "\n",
              "    .dataframe tbody tr th {\n",
              "        vertical-align: top;\n",
              "    }\n",
              "\n",
              "    .dataframe thead th {\n",
              "        text-align: right;\n",
              "    }\n",
              "</style>\n",
              "<table border=\"1\" class=\"dataframe\">\n",
              "  <thead>\n",
              "    <tr style=\"text-align: right;\">\n",
              "      <th></th>\n",
              "      <th>ID</th>\n",
              "      <th>Year_Birth</th>\n",
              "      <th>Education</th>\n",
              "      <th>Marital_Status</th>\n",
              "      <th>Income</th>\n",
              "      <th>Kidhome</th>\n",
              "      <th>Teenhome</th>\n",
              "      <th>Dt_Customer</th>\n",
              "      <th>Recency</th>\n",
              "      <th>MntWines</th>\n",
              "      <th>MntFruits</th>\n",
              "      <th>MntMeatProducts</th>\n",
              "      <th>MntFishProducts</th>\n",
              "      <th>MntSweetProducts</th>\n",
              "      <th>MntGoldProds</th>\n",
              "      <th>NumDealsPurchases</th>\n",
              "      <th>NumWebPurchases</th>\n",
              "      <th>NumCatalogPurchases</th>\n",
              "      <th>NumStorePurchases</th>\n",
              "      <th>NumWebVisitsMonth</th>\n",
              "      <th>AcceptedCmp3</th>\n",
              "      <th>AcceptedCmp4</th>\n",
              "      <th>AcceptedCmp5</th>\n",
              "      <th>AcceptedCmp1</th>\n",
              "      <th>AcceptedCmp2</th>\n",
              "      <th>Response</th>\n",
              "      <th>Complain</th>\n",
              "      <th>Country</th>\n",
              "    </tr>\n",
              "  </thead>\n",
              "  <tbody>\n",
              "    <tr>\n",
              "      <th>0</th>\n",
              "      <td>1826</td>\n",
              "      <td>1970</td>\n",
              "      <td>Graduation</td>\n",
              "      <td>Divorced</td>\n",
              "      <td>$84,835.00</td>\n",
              "      <td>0</td>\n",
              "      <td>0</td>\n",
              "      <td>6/16/14</td>\n",
              "      <td>0</td>\n",
              "      <td>189</td>\n",
              "      <td>104</td>\n",
              "      <td>379</td>\n",
              "      <td>111</td>\n",
              "      <td>189</td>\n",
              "      <td>218</td>\n",
              "      <td>1</td>\n",
              "      <td>4</td>\n",
              "      <td>4</td>\n",
              "      <td>6</td>\n",
              "      <td>1</td>\n",
              "      <td>0</td>\n",
              "      <td>0</td>\n",
              "      <td>0</td>\n",
              "      <td>0</td>\n",
              "      <td>0</td>\n",
              "      <td>1</td>\n",
              "      <td>0</td>\n",
              "      <td>SP</td>\n",
              "    </tr>\n",
              "    <tr>\n",
              "      <th>1</th>\n",
              "      <td>1</td>\n",
              "      <td>1961</td>\n",
              "      <td>Graduation</td>\n",
              "      <td>Single</td>\n",
              "      <td>$57,091.00</td>\n",
              "      <td>0</td>\n",
              "      <td>0</td>\n",
              "      <td>6/15/14</td>\n",
              "      <td>0</td>\n",
              "      <td>464</td>\n",
              "      <td>5</td>\n",
              "      <td>64</td>\n",
              "      <td>7</td>\n",
              "      <td>0</td>\n",
              "      <td>37</td>\n",
              "      <td>1</td>\n",
              "      <td>7</td>\n",
              "      <td>3</td>\n",
              "      <td>7</td>\n",
              "      <td>5</td>\n",
              "      <td>0</td>\n",
              "      <td>0</td>\n",
              "      <td>0</td>\n",
              "      <td>0</td>\n",
              "      <td>1</td>\n",
              "      <td>1</td>\n",
              "      <td>0</td>\n",
              "      <td>CA</td>\n",
              "    </tr>\n",
              "    <tr>\n",
              "      <th>2</th>\n",
              "      <td>10476</td>\n",
              "      <td>1958</td>\n",
              "      <td>Graduation</td>\n",
              "      <td>Married</td>\n",
              "      <td>$67,267.00</td>\n",
              "      <td>0</td>\n",
              "      <td>1</td>\n",
              "      <td>5/13/14</td>\n",
              "      <td>0</td>\n",
              "      <td>134</td>\n",
              "      <td>11</td>\n",
              "      <td>59</td>\n",
              "      <td>15</td>\n",
              "      <td>2</td>\n",
              "      <td>30</td>\n",
              "      <td>1</td>\n",
              "      <td>3</td>\n",
              "      <td>2</td>\n",
              "      <td>5</td>\n",
              "      <td>2</td>\n",
              "      <td>0</td>\n",
              "      <td>0</td>\n",
              "      <td>0</td>\n",
              "      <td>0</td>\n",
              "      <td>0</td>\n",
              "      <td>0</td>\n",
              "      <td>0</td>\n",
              "      <td>US</td>\n",
              "    </tr>\n",
              "    <tr>\n",
              "      <th>3</th>\n",
              "      <td>1386</td>\n",
              "      <td>1967</td>\n",
              "      <td>Graduation</td>\n",
              "      <td>Together</td>\n",
              "      <td>$32,474.00</td>\n",
              "      <td>1</td>\n",
              "      <td>1</td>\n",
              "      <td>5/11/14</td>\n",
              "      <td>0</td>\n",
              "      <td>10</td>\n",
              "      <td>0</td>\n",
              "      <td>1</td>\n",
              "      <td>0</td>\n",
              "      <td>0</td>\n",
              "      <td>0</td>\n",
              "      <td>1</td>\n",
              "      <td>1</td>\n",
              "      <td>0</td>\n",
              "      <td>2</td>\n",
              "      <td>7</td>\n",
              "      <td>0</td>\n",
              "      <td>0</td>\n",
              "      <td>0</td>\n",
              "      <td>0</td>\n",
              "      <td>0</td>\n",
              "      <td>0</td>\n",
              "      <td>0</td>\n",
              "      <td>AUS</td>\n",
              "    </tr>\n",
              "    <tr>\n",
              "      <th>4</th>\n",
              "      <td>5371</td>\n",
              "      <td>1989</td>\n",
              "      <td>Graduation</td>\n",
              "      <td>Single</td>\n",
              "      <td>$21,474.00</td>\n",
              "      <td>1</td>\n",
              "      <td>0</td>\n",
              "      <td>4/8/14</td>\n",
              "      <td>0</td>\n",
              "      <td>6</td>\n",
              "      <td>16</td>\n",
              "      <td>24</td>\n",
              "      <td>11</td>\n",
              "      <td>0</td>\n",
              "      <td>34</td>\n",
              "      <td>2</td>\n",
              "      <td>3</td>\n",
              "      <td>1</td>\n",
              "      <td>2</td>\n",
              "      <td>7</td>\n",
              "      <td>1</td>\n",
              "      <td>0</td>\n",
              "      <td>0</td>\n",
              "      <td>0</td>\n",
              "      <td>0</td>\n",
              "      <td>1</td>\n",
              "      <td>0</td>\n",
              "      <td>SP</td>\n",
              "    </tr>\n",
              "  </tbody>\n",
              "</table>\n",
              "</div>"
            ],
            "text/plain": [
              "      ID  Year_Birth   Education  ... Response Complain  Country\n",
              "0   1826        1970  Graduation  ...        1        0       SP\n",
              "1      1        1961  Graduation  ...        1        0       CA\n",
              "2  10476        1958  Graduation  ...        0        0       US\n",
              "3   1386        1967  Graduation  ...        0        0      AUS\n",
              "4   5371        1989  Graduation  ...        1        0       SP\n",
              "\n",
              "[5 rows x 28 columns]"
            ]
          },
          "metadata": {},
          "execution_count": 6
        }
      ]
    },
    {
      "cell_type": "code",
      "metadata": {
        "colab": {
          "base_uri": "https://localhost:8080/"
        },
        "id": "Ivb5yFRe24hW",
        "outputId": "aa0cea33-667c-422c-8a41-c50f6b52a298"
      },
      "source": [
        "#Quantidade de linhas e colunas\n",
        "dados.shape"
      ],
      "execution_count": null,
      "outputs": [
        {
          "output_type": "execute_result",
          "data": {
            "text/plain": [
              "(2240, 28)"
            ]
          },
          "metadata": {},
          "execution_count": 7
        }
      ]
    },
    {
      "cell_type": "code",
      "metadata": {
        "colab": {
          "base_uri": "https://localhost:8080/"
        },
        "id": "h9sDBJLc27Ob",
        "outputId": "7fcda94e-1d81-4ab2-ac6a-d0981703aa27"
      },
      "source": [
        "#Informações sobre as variáveis do dataset\n",
        "dados.info()"
      ],
      "execution_count": null,
      "outputs": [
        {
          "output_type": "stream",
          "name": "stdout",
          "text": [
            "<class 'pandas.core.frame.DataFrame'>\n",
            "RangeIndex: 2240 entries, 0 to 2239\n",
            "Data columns (total 28 columns):\n",
            " #   Column               Non-Null Count  Dtype \n",
            "---  ------               --------------  ----- \n",
            " 0   ID                   2240 non-null   int64 \n",
            " 1   Year_Birth           2240 non-null   int64 \n",
            " 2   Education            2240 non-null   object\n",
            " 3   Marital_Status       2240 non-null   object\n",
            " 4    Income              2216 non-null   object\n",
            " 5   Kidhome              2240 non-null   int64 \n",
            " 6   Teenhome             2240 non-null   int64 \n",
            " 7   Dt_Customer          2240 non-null   object\n",
            " 8   Recency              2240 non-null   int64 \n",
            " 9   MntWines             2240 non-null   int64 \n",
            " 10  MntFruits            2240 non-null   int64 \n",
            " 11  MntMeatProducts      2240 non-null   int64 \n",
            " 12  MntFishProducts      2240 non-null   int64 \n",
            " 13  MntSweetProducts     2240 non-null   int64 \n",
            " 14  MntGoldProds         2240 non-null   int64 \n",
            " 15  NumDealsPurchases    2240 non-null   int64 \n",
            " 16  NumWebPurchases      2240 non-null   int64 \n",
            " 17  NumCatalogPurchases  2240 non-null   int64 \n",
            " 18  NumStorePurchases    2240 non-null   int64 \n",
            " 19  NumWebVisitsMonth    2240 non-null   int64 \n",
            " 20  AcceptedCmp3         2240 non-null   int64 \n",
            " 21  AcceptedCmp4         2240 non-null   int64 \n",
            " 22  AcceptedCmp5         2240 non-null   int64 \n",
            " 23  AcceptedCmp1         2240 non-null   int64 \n",
            " 24  AcceptedCmp2         2240 non-null   int64 \n",
            " 25  Response             2240 non-null   int64 \n",
            " 26  Complain             2240 non-null   int64 \n",
            " 27  Country              2240 non-null   object\n",
            "dtypes: int64(23), object(5)\n",
            "memory usage: 490.1+ KB\n"
          ]
        }
      ]
    },
    {
      "cell_type": "markdown",
      "metadata": {
        "id": "jsLlRs9N3aWS"
      },
      "source": [
        "Podemos observar que temos 28 variáveis neste dataset, sendo elas do tipo inteiro e objeto.\n",
        "\n",
        "As variáveis são as seguintes:\n",
        "\n",
        "- ID = ID do cliente.\n",
        "- Year_Birth = Ano de aniversário do cliente.\n",
        "- Education = Grau de instrução do cliente.\n",
        "- Marital_Status = Estado civil.\n",
        "- Income = Renda familiar anual do cliente.\n",
        "- Kidhome = Quantidade de crianças em casa.\n",
        "- Teenhome = Quantidade de adolescentes em casa.\n",
        "- Dt_Customer = Data de entrada do cliente na empresa.\n",
        "- Recency = Quantidade de dias desde a última compra do cliente.\n",
        "- MntWines = Quantidade gasta em vinho nos últimos dois anos.\n",
        "- MntFruits = Quantidade gasta em frutas nos últimos dois anos.\n",
        "- MntMeatProducts = Quantidade gasta em carne nos últimos dois anos.\n",
        "- MntFishProducts = Quantidade gasta em peixe nos últimos dois anos.\n",
        "- MntSweetProducts = Quantidade gasta em doces nos últimos dois anos.\n",
        "- MntGoldProds = Quantidade gasta em ouro nos últimos dois anos.\n",
        "- NumDealsPurchases = Quantidade de compras feitas com desconto.\n",
        "- NumWebPurchases = Quantidade de compras realizadas pelo site.\n",
        "- NumCatalogPurchases = Quantidade de compras feitas usando um catálogo.\n",
        "- NumStorePurchases = Quantidade de compras feitas diariamente nas lojas.\n",
        "- NumWebVisitsMonth = Quantidade de visitas ao site da empresa no último mês.\n",
        "- AcceptedCmp1 = 1 se o cliente aceitou a oferta na 1ª campanha, 0 caso contrário.\n",
        "- AcceptedCmp2 = 1 se o cliente aceitou a oferta na 2ª campanha, 0 caso contrário.\n",
        "- AcceptedCmp3 = 1 se o cliente aceitou a oferta na 3ª campanha, 0 caso contrário.\n",
        "- AcceptedCmp4 = 1 se o cliente aceitou a oferta na 4ª campanha, 0 caso contrário.\n",
        "- AcceptedCmp5 = 1 se o cliente aceitou a oferta na 5ª campanha, 0 caso contrário.\n",
        "- Response = 1 se o cliente aceitou a oferta na última campanha, 0 caso contrário.\n",
        "- Complain = 1 se o cliente reclamou nos últimos 2 anos, 0 caso contrário.\n",
        "- Country = País de localização do cliente."
      ]
    },
    {
      "cell_type": "code",
      "metadata": {
        "colab": {
          "base_uri": "https://localhost:8080/"
        },
        "id": "3fg7xabp3bUK",
        "outputId": "518aaf3d-19c7-409d-f196-feec50ee7197"
      },
      "source": [
        "#Verificando variáveis com elementos nulos\n",
        "dados.isnull().mean()[dados.isnull().sum()!= 0].sort_values(ascending = False)"
      ],
      "execution_count": null,
      "outputs": [
        {
          "output_type": "execute_result",
          "data": {
            "text/plain": [
              " Income     0.010714\n",
              "dtype: float64"
            ]
          },
          "metadata": {},
          "execution_count": 9
        }
      ]
    },
    {
      "cell_type": "markdown",
      "metadata": {
        "id": "FbmQvQNJ3lG_"
      },
      "source": [
        "Apenas uma variável possui dados nulos (Income) com pouco mais de 1% de dados faltantes."
      ]
    },
    {
      "cell_type": "code",
      "metadata": {
        "id": "RAcu3IOP3nMy"
      },
      "source": [
        "#Importando a biblioteca missingno para visualização dos dados faltantes\n",
        "import missingno as msno"
      ],
      "execution_count": null,
      "outputs": []
    },
    {
      "cell_type": "code",
      "metadata": {
        "colab": {
          "base_uri": "https://localhost:8080/",
          "height": 637
        },
        "id": "tj9ic_ky4jg-",
        "outputId": "2f606a43-b5b9-47fe-f028-6d39827c9f62"
      },
      "source": [
        "%matplotlib inline\n",
        "msno.matrix(dados.sample(250))"
      ],
      "execution_count": null,
      "outputs": [
        {
          "output_type": "execute_result",
          "data": {
            "text/plain": [
              "<matplotlib.axes._subplots.AxesSubplot at 0x7f3ca9174050>"
            ]
          },
          "metadata": {},
          "execution_count": 11
        },
        {
          "output_type": "display_data",
          "data": {
            "image/png": "[encoded data removed]",
            "text/plain": [
              "<Figure size 1800x720 with 2 Axes>"
            ]
          },
          "metadata": {
            "needs_background": "light"
          }
        }
      ]
    },
    {
      "cell_type": "markdown",
      "metadata": {
        "id": "yE1zGOqK4s5J"
      },
      "source": [
        "Aqui podemos observar claramente que há dados falantes na variável Income."
      ]
    },
    {
      "cell_type": "markdown",
      "metadata": {
        "id": "OQWhhkE14x86"
      },
      "source": [
        "#**Limpeza e Transformação de Dados**"
      ]
    },
    {
      "cell_type": "code",
      "metadata": {
        "colab": {
          "base_uri": "https://localhost:8080/"
        },
        "id": "KGkU4rVh4mGx",
        "outputId": "c0fb5ba0-7bf1-4ef6-da54-f41918fbc3ff"
      },
      "source": [
        "#Removendo espaço no nome da variável Income\n",
        "dados.rename(columns={' Income ': 'Income'}, inplace = True)\n",
        "print(dados.columns)"
      ],
      "execution_count": null,
      "outputs": [
        {
          "output_type": "stream",
          "name": "stdout",
          "text": [
            "Index(['ID', 'Year_Birth', 'Education', 'Marital_Status', 'Income', 'Kidhome',\n",
            "       'Teenhome', 'Dt_Customer', 'Recency', 'MntWines', 'MntFruits',\n",
            "       'MntMeatProducts', 'MntFishProducts', 'MntSweetProducts',\n",
            "       'MntGoldProds', 'NumDealsPurchases', 'NumWebPurchases',\n",
            "       'NumCatalogPurchases', 'NumStorePurchases', 'NumWebVisitsMonth',\n",
            "       'AcceptedCmp3', 'AcceptedCmp4', 'AcceptedCmp5', 'AcceptedCmp1',\n",
            "       'AcceptedCmp2', 'Response', 'Complain', 'Country'],\n",
            "      dtype='object')\n"
          ]
        }
      ]
    },
    {
      "cell_type": "code",
      "metadata": {
        "id": "xPhxOV9f4417"
      },
      "source": [
        "#Removendo caracteres especiais, vírgula e convertendo variável Income para float\n",
        "def conv_float(x):\n",
        "    try:\n",
        "        return  pd.to_numeric(x.replace('$','').replace(',',''))\n",
        "    except:\n",
        "        if type(x) == float:\n",
        "            return x\n",
        "        else:\n",
        "            return 'NA'       \n",
        "\n",
        "dados['Income'] = dados['Income'].apply(lambda x:conv_float(x))"
      ],
      "execution_count": null,
      "outputs": []
    },
    {
      "cell_type": "code",
      "metadata": {
        "colab": {
          "base_uri": "https://localhost:8080/"
        },
        "id": "-qUGqwTo483L",
        "outputId": "e23bc412-6251-46c7-bada-515b571109bd"
      },
      "source": [
        "#Verificando variável Income\n",
        "dados['Income']"
      ],
      "execution_count": null,
      "outputs": [
        {
          "output_type": "execute_result",
          "data": {
            "text/plain": [
              "0       84835.0\n",
              "1       57091.0\n",
              "2       67267.0\n",
              "3       32474.0\n",
              "4       21474.0\n",
              "         ...   \n",
              "2235    66476.0\n",
              "2236    31056.0\n",
              "2237    46310.0\n",
              "2238    65819.0\n",
              "2239    94871.0\n",
              "Name: Income, Length: 2240, dtype: float64"
            ]
          },
          "metadata": {},
          "execution_count": 14
        }
      ]
    },
    {
      "cell_type": "code",
      "metadata": {
        "colab": {
          "base_uri": "https://localhost:8080/"
        },
        "id": "wJ--8FUh5APD",
        "outputId": "3a07195a-747b-44d5-9553-2858bc4f7ddc"
      },
      "source": [
        "#Média dos valores da variável Income\n",
        "round(dados['Income'].mean(),2)"
      ],
      "execution_count": null,
      "outputs": [
        {
          "output_type": "execute_result",
          "data": {
            "text/plain": [
              "52247.25"
            ]
          },
          "metadata": {},
          "execution_count": 15
        }
      ]
    },
    {
      "cell_type": "code",
      "metadata": {
        "id": "DDWIgw_x5Dh3"
      },
      "source": [
        "#Completando valores NA em Income com a média da variável\n",
        "dados['Income'].fillna(value = round(dados['Income'].mean(),2), inplace = True)"
      ],
      "execution_count": null,
      "outputs": []
    },
    {
      "cell_type": "code",
      "metadata": {
        "colab": {
          "base_uri": "https://localhost:8080/"
        },
        "id": "4oXcq4tY5G1R",
        "outputId": "b5542201-bf3b-432f-ce67-bc673ec840b5"
      },
      "source": [
        "#Checando se há valores nulos na variável Income\n",
        "pd.isnull(dados['Income']).sum()"
      ],
      "execution_count": null,
      "outputs": [
        {
          "output_type": "execute_result",
          "data": {
            "text/plain": [
              "0"
            ]
          },
          "metadata": {},
          "execution_count": 17
        }
      ]
    },
    {
      "cell_type": "code",
      "metadata": {
        "id": "g2V4JZaa5LCg"
      },
      "source": [
        "#Convertendo as variáveis ID, Response e Complain de números inteiros para string\n",
        "colunas = ['ID', 'Response', 'Complain']\n",
        "dados[colunas] = str(colunas)"
      ],
      "execution_count": null,
      "outputs": []
    },
    {
      "cell_type": "code",
      "metadata": {
        "id": "9VxyaTWQ5Tyt"
      },
      "source": [
        "#Convertendo a variável Dt_Customer de string para data\n",
        "dados['Dt_Customer'] = pd.to_datetime(dados['Dt_Customer'], format = '%m/%d/%y')"
      ],
      "execution_count": null,
      "outputs": []
    },
    {
      "cell_type": "code",
      "metadata": {
        "colab": {
          "base_uri": "https://localhost:8080/"
        },
        "id": "futHvVzc5YAc",
        "outputId": "97839964-486b-4f36-a43e-28e55954a77d"
      },
      "source": [
        "#Checando a variável Dt_Customer\n",
        "dados['Dt_Customer']"
      ],
      "execution_count": null,
      "outputs": [
        {
          "output_type": "execute_result",
          "data": {
            "text/plain": [
              "0      2014-06-16\n",
              "1      2014-06-15\n",
              "2      2014-05-13\n",
              "3      2014-05-11\n",
              "4      2014-04-08\n",
              "          ...    \n",
              "2235   2013-03-07\n",
              "2236   2013-01-22\n",
              "2237   2012-12-03\n",
              "2238   2012-11-29\n",
              "2239   2012-09-01\n",
              "Name: Dt_Customer, Length: 2240, dtype: datetime64[ns]"
            ]
          },
          "metadata": {},
          "execution_count": 20
        }
      ]
    },
    {
      "cell_type": "code",
      "metadata": {
        "colab": {
          "base_uri": "https://localhost:8080/"
        },
        "id": "s50MCQN15ae1",
        "outputId": "9dcab87a-9a98-4817-9367-82a2d8e1da23"
      },
      "source": [
        "#Nome dos países estão em formato de siglas\n",
        "dados['Country'].head()"
      ],
      "execution_count": null,
      "outputs": [
        {
          "output_type": "execute_result",
          "data": {
            "text/plain": [
              "0     SP\n",
              "1     CA\n",
              "2     US\n",
              "3    AUS\n",
              "4     SP\n",
              "Name: Country, dtype: object"
            ]
          },
          "metadata": {},
          "execution_count": 21
        }
      ]
    },
    {
      "cell_type": "code",
      "metadata": {
        "colab": {
          "base_uri": "https://localhost:8080/"
        },
        "id": "omRz3_J2ei3l",
        "outputId": "281bbb22-4672-4adc-83f9-14a9a1145361"
      },
      "source": [
        "#Instalando biblioteca pycountry\n",
        "!pip install pycountry"
      ],
      "execution_count": null,
      "outputs": [
        {
          "output_type": "stream",
          "name": "stdout",
          "text": [
            "Requirement already satisfied: pycountry in /usr/local/lib/python3.7/dist-packages (20.7.3)\n"
          ]
        }
      ]
    },
    {
      "cell_type": "code",
      "metadata": {
        "id": "kYgy1PMXerbe"
      },
      "source": [
        "#Convertendo siglas dos países pelo seu respectivo nome\n",
        "\n",
        "import pycountry\n",
        "\n",
        "def conv_pais(y):\n",
        "    try:\n",
        "        return pycountry.countries.get(alpha_2 = y[:2]).name\n",
        "    except:\n",
        "        return y      \n",
        "\n",
        "dados['Country'] = dados['Country'].apply(conv_pais)"
      ],
      "execution_count": null,
      "outputs": []
    },
    {
      "cell_type": "code",
      "metadata": {
        "colab": {
          "base_uri": "https://localhost:8080/"
        },
        "id": "wgw0niw5ex8Q",
        "outputId": "31d72605-3a0d-49d8-c819-48a374fc2f6d"
      },
      "source": [
        "#Verificando aplicação da função dos países\n",
        "dados['Country'].head(10)"
      ],
      "execution_count": null,
      "outputs": [
        {
          "output_type": "execute_result",
          "data": {
            "text/plain": [
              "0               SP\n",
              "1           Canada\n",
              "2    United States\n",
              "3        Australia\n",
              "4               SP\n",
              "5               SP\n",
              "6          Georgia\n",
              "7               SP\n",
              "8    United States\n",
              "9            India\n",
              "Name: Country, dtype: object"
            ]
          },
          "metadata": {},
          "execution_count": 24
        }
      ]
    },
    {
      "cell_type": "code",
      "metadata": {
        "id": "8Z6VlNrGe3Fq"
      },
      "source": [
        "#Alterando Georgia (Estado) para Germany (país) e sigla SP para Spain\n",
        "def conv_pais_2(z):\n",
        "    try:\n",
        "        return  (z.replace('Georgia','Germany').replace('SP','Spain'))\n",
        "    except:\n",
        "      return z      \n",
        "\n",
        "dados['Country'] = dados['Country'].apply(conv_pais_2)"
      ],
      "execution_count": null,
      "outputs": []
    },
    {
      "cell_type": "code",
      "metadata": {
        "colab": {
          "base_uri": "https://localhost:8080/"
        },
        "id": "jIDpfXpIe8Az",
        "outputId": "9798e6cd-0879-49ea-a050-5716a6de9915"
      },
      "source": [
        "#Checando variável Country\n",
        "dados['Country'].head(30)"
      ],
      "execution_count": null,
      "outputs": [
        {
          "output_type": "execute_result",
          "data": {
            "text/plain": [
              "0             Spain\n",
              "1            Canada\n",
              "2     United States\n",
              "3         Australia\n",
              "4             Spain\n",
              "5             Spain\n",
              "6           Germany\n",
              "7             Spain\n",
              "8     United States\n",
              "9             India\n",
              "10    United States\n",
              "11            Spain\n",
              "12            India\n",
              "13           Canada\n",
              "14            Spain\n",
              "15            Spain\n",
              "16            Spain\n",
              "17            Spain\n",
              "18           Canada\n",
              "19           Canada\n",
              "20     Saudi Arabia\n",
              "21            India\n",
              "22          Germany\n",
              "23            Spain\n",
              "24            India\n",
              "25            Spain\n",
              "26            Spain\n",
              "27            Spain\n",
              "28            Spain\n",
              "29           Canada\n",
              "Name: Country, dtype: object"
            ]
          },
          "metadata": {},
          "execution_count": 26
        }
      ]
    },
    {
      "cell_type": "code",
      "metadata": {
        "id": "7A2Y6Xw15dx1"
      },
      "source": [
        "#Criando a variável Dependentes a partir das variáveis KidHome e TeenHome\n",
        "dados['Dependentes'] = dados['Kidhome'] + dados['Teenhome']"
      ],
      "execution_count": null,
      "outputs": []
    },
    {
      "cell_type": "code",
      "metadata": {
        "colab": {
          "base_uri": "https://localhost:8080/"
        },
        "id": "klgkK4_Y6TbF",
        "outputId": "2d1f1207-c491-4128-b0ef-f7460726d0d6"
      },
      "source": [
        "#Checando a variável Dependentes\n",
        "dados['Dependentes'].head(10)"
      ],
      "execution_count": null,
      "outputs": [
        {
          "output_type": "execute_result",
          "data": {
            "text/plain": [
              "0    0\n",
              "1    0\n",
              "2    1\n",
              "3    2\n",
              "4    1\n",
              "5    0\n",
              "6    0\n",
              "7    1\n",
              "8    1\n",
              "9    1\n",
              "Name: Dependentes, dtype: int64"
            ]
          },
          "metadata": {},
          "execution_count": 28
        }
      ]
    },
    {
      "cell_type": "code",
      "metadata": {
        "id": "jHlwYSZ86WSk"
      },
      "source": [
        "#Criando a variável Idade a partir da variável Year_Birth\n",
        "dados['Idade'] = 2021 - dados['Year_Birth']"
      ],
      "execution_count": null,
      "outputs": []
    },
    {
      "cell_type": "code",
      "metadata": {
        "colab": {
          "base_uri": "https://localhost:8080/"
        },
        "id": "xpl5wY7z6Y3K",
        "outputId": "15e0ae80-49cf-4870-9cd7-bc2b02c19cda"
      },
      "source": [
        "#Checando a variável Idade\n",
        "dados['Idade'].head(10)"
      ],
      "execution_count": null,
      "outputs": [
        {
          "output_type": "execute_result",
          "data": {
            "text/plain": [
              "0    51\n",
              "1    60\n",
              "2    63\n",
              "3    54\n",
              "4    32\n",
              "5    63\n",
              "6    67\n",
              "7    54\n",
              "8    67\n",
              "9    67\n",
              "Name: Idade, dtype: int64"
            ]
          },
          "metadata": {},
          "execution_count": 30
        }
      ]
    },
    {
      "cell_type": "code",
      "metadata": {
        "colab": {
          "base_uri": "https://localhost:8080/"
        },
        "id": "xnoImeTp6bU9",
        "outputId": "89db95c8-6efa-4d02-c7d8-a5a5050cb372"
      },
      "source": [
        "#Idade Máxima\n",
        "dados['Idade'].max()"
      ],
      "execution_count": null,
      "outputs": [
        {
          "output_type": "execute_result",
          "data": {
            "text/plain": [
              "128"
            ]
          },
          "metadata": {},
          "execution_count": 31
        }
      ]
    },
    {
      "cell_type": "markdown",
      "metadata": {
        "id": "CtHCb8Ak6iCi"
      },
      "source": [
        "Podemos observar que a idade máxima dos clientes desta empresa é 128 anos. Qual a probabilidade de um cliente desta empresa ter esta idade? Vamos analisar melhor a variável Year_Birth (Ano de Nascimento)."
      ]
    },
    {
      "cell_type": "code",
      "metadata": {
        "colab": {
          "base_uri": "https://localhost:8080/"
        },
        "id": "8bujdS0q6eKB",
        "outputId": "04a0c575-b23a-4580-9c45-8bddfffb00b7"
      },
      "source": [
        "#Verificado todas as frequências de Ano de Nascimento\n",
        "dados.groupby('Year_Birth')['Year_Birth'].count()"
      ],
      "execution_count": null,
      "outputs": [
        {
          "output_type": "execute_result",
          "data": {
            "text/plain": [
              "Year_Birth\n",
              "1893     1\n",
              "1899     1\n",
              "1900     1\n",
              "1940     1\n",
              "1941     1\n",
              "1943     7\n",
              "1944     7\n",
              "1945     8\n",
              "1946    16\n",
              "1947    16\n",
              "1948    21\n",
              "1949    30\n",
              "1950    29\n",
              "1951    43\n",
              "1952    52\n",
              "1953    35\n",
              "1954    50\n",
              "1955    49\n",
              "1956    55\n",
              "1957    43\n",
              "1958    53\n",
              "1959    51\n",
              "1960    49\n",
              "1961    36\n",
              "1962    44\n",
              "1963    45\n",
              "1964    42\n",
              "1965    74\n",
              "1966    50\n",
              "1967    44\n",
              "1968    51\n",
              "1969    71\n",
              "1970    77\n",
              "1971    87\n",
              "1972    79\n",
              "1973    74\n",
              "1974    69\n",
              "1975    83\n",
              "1976    89\n",
              "1977    52\n",
              "1978    77\n",
              "1979    53\n",
              "1980    39\n",
              "1981    39\n",
              "1982    45\n",
              "1983    42\n",
              "1984    38\n",
              "1985    32\n",
              "1986    42\n",
              "1987    27\n",
              "1988    29\n",
              "1989    30\n",
              "1990    18\n",
              "1991    15\n",
              "1992    13\n",
              "1993     5\n",
              "1994     3\n",
              "1995     5\n",
              "1996     2\n",
              "Name: Year_Birth, dtype: int64"
            ]
          },
          "metadata": {},
          "execution_count": 32
        }
      ]
    },
    {
      "cell_type": "markdown",
      "metadata": {
        "id": "OZs8Ws0W6rk3"
      },
      "source": [
        "Há três valores bem distintintos do restante dos dados desta variável: os anos de 1893, 1899 e 1900. Por isso, as idades máximas de 128, 122 e 121 anos, respectivamente. Teria sido um input de dados errado?\n",
        "\n",
        "Vamos substituir estes três valores pela média da variável."
      ]
    },
    {
      "cell_type": "code",
      "metadata": {
        "colab": {
          "base_uri": "https://localhost:8080/"
        },
        "id": "yU5K6ui96nTN",
        "outputId": "be8b80ca-48d7-4661-a006-1e59b91c36af"
      },
      "source": [
        "#Média da variável Year_Birth\n",
        "round(dados['Year_Birth'].mean())"
      ],
      "execution_count": null,
      "outputs": [
        {
          "output_type": "execute_result",
          "data": {
            "text/plain": [
              "1969"
            ]
          },
          "metadata": {},
          "execution_count": 33
        }
      ]
    },
    {
      "cell_type": "code",
      "metadata": {
        "id": "ww9t765L6v3o"
      },
      "source": [
        "#Substituindo os valores pela média\n",
        "dados['Year_Birth'] = dados['Year_Birth'].replace([1893,1899,1900],1969)"
      ],
      "execution_count": null,
      "outputs": []
    },
    {
      "cell_type": "code",
      "metadata": {
        "id": "oF8zgcvy6yYY"
      },
      "source": [
        "#Refazendo a variável Idade\n",
        "dados['Idade'] = 2021 - dados['Year_Birth']"
      ],
      "execution_count": null,
      "outputs": []
    },
    {
      "cell_type": "code",
      "metadata": {
        "colab": {
          "base_uri": "https://localhost:8080/"
        },
        "id": "NG2B5psr61F7",
        "outputId": "4747abf8-d58c-4223-f494-cd9e311472e1"
      },
      "source": [
        "#Idade máxima\n",
        "dados['Idade'].max()"
      ],
      "execution_count": null,
      "outputs": [
        {
          "output_type": "execute_result",
          "data": {
            "text/plain": [
              "81"
            ]
          },
          "metadata": {},
          "execution_count": 36
        }
      ]
    },
    {
      "cell_type": "markdown",
      "metadata": {
        "id": "_X7cNwDj69fT"
      },
      "source": [
        "Agora temos idade máxima dos clintes de 81 anos."
      ]
    },
    {
      "cell_type": "code",
      "metadata": {
        "colab": {
          "base_uri": "https://localhost:8080/"
        },
        "id": "Vb4_5yOA631q",
        "outputId": "7fceff72-4e11-42c9-dc02-135c0068e610"
      },
      "source": [
        "#Informações sobre as variáveis do dataset\n",
        "dados.info()"
      ],
      "execution_count": null,
      "outputs": [
        {
          "output_type": "stream",
          "name": "stdout",
          "text": [
            "<class 'pandas.core.frame.DataFrame'>\n",
            "RangeIndex: 2240 entries, 0 to 2239\n",
            "Data columns (total 30 columns):\n",
            " #   Column               Non-Null Count  Dtype         \n",
            "---  ------               --------------  -----         \n",
            " 0   ID                   2240 non-null   object        \n",
            " 1   Year_Birth           2240 non-null   int64         \n",
            " 2   Education            2240 non-null   object        \n",
            " 3   Marital_Status       2240 non-null   object        \n",
            " 4   Income               2240 non-null   float64       \n",
            " 5   Kidhome              2240 non-null   int64         \n",
            " 6   Teenhome             2240 non-null   int64         \n",
            " 7   Dt_Customer          2240 non-null   datetime64[ns]\n",
            " 8   Recency              2240 non-null   int64         \n",
            " 9   MntWines             2240 non-null   int64         \n",
            " 10  MntFruits            2240 non-null   int64         \n",
            " 11  MntMeatProducts      2240 non-null   int64         \n",
            " 12  MntFishProducts      2240 non-null   int64         \n",
            " 13  MntSweetProducts     2240 non-null   int64         \n",
            " 14  MntGoldProds         2240 non-null   int64         \n",
            " 15  NumDealsPurchases    2240 non-null   int64         \n",
            " 16  NumWebPurchases      2240 non-null   int64         \n",
            " 17  NumCatalogPurchases  2240 non-null   int64         \n",
            " 18  NumStorePurchases    2240 non-null   int64         \n",
            " 19  NumWebVisitsMonth    2240 non-null   int64         \n",
            " 20  AcceptedCmp3         2240 non-null   int64         \n",
            " 21  AcceptedCmp4         2240 non-null   int64         \n",
            " 22  AcceptedCmp5         2240 non-null   int64         \n",
            " 23  AcceptedCmp1         2240 non-null   int64         \n",
            " 24  AcceptedCmp2         2240 non-null   int64         \n",
            " 25  Response             2240 non-null   object        \n",
            " 26  Complain             2240 non-null   object        \n",
            " 27  Country              2240 non-null   object        \n",
            " 28  Dependentes          2240 non-null   int64         \n",
            " 29  Idade                2240 non-null   int64         \n",
            "dtypes: datetime64[ns](1), float64(1), int64(22), object(6)\n",
            "memory usage: 525.1+ KB\n"
          ]
        }
      ]
    },
    {
      "cell_type": "markdown",
      "metadata": {
        "id": "_xZJZ4ZY7GR-"
      },
      "source": [
        "Agora, após a etapa de tratamento e limpeza dos dados, podemos observar que temos 30 variáveis neste dataset, as mesmas 28 anteriormente citadas com o acréscimo das variáveis Dependentes e Idade.\n",
        "\n",
        "As variáveis deste conjunto de dados são do tipo inteiro, objeto, números reais e data."
      ]
    },
    {
      "cell_type": "code",
      "metadata": {
        "colab": {
          "base_uri": "https://localhost:8080/",
          "height": 320
        },
        "id": "ZkN5cak87BBd",
        "outputId": "45990df5-8439-415e-8fed-6456f8e75195"
      },
      "source": [
        "#Algumas medidas descritivas das variáveis\n",
        "dados.describe()"
      ],
      "execution_count": null,
      "outputs": [
        {
          "output_type": "execute_result",
          "data": {
            "text/html": [
              "<div>\n",
              "<style scoped>\n",
              "    .dataframe tbody tr th:only-of-type {\n",
              "        vertical-align: middle;\n",
              "    }\n",
              "\n",
              "    .dataframe tbody tr th {\n",
              "        vertical-align: top;\n",
              "    }\n",
              "\n",
              "    .dataframe thead th {\n",
              "        text-align: right;\n",
              "    }\n",
              "</style>\n",
              "<table border=\"1\" class=\"dataframe\">\n",
              "  <thead>\n",
              "    <tr style=\"text-align: right;\">\n",
              "      <th></th>\n",
              "      <th>Year_Birth</th>\n",
              "      <th>Income</th>\n",
              "      <th>Kidhome</th>\n",
              "      <th>Teenhome</th>\n",
              "      <th>Recency</th>\n",
              "      <th>MntWines</th>\n",
              "      <th>MntFruits</th>\n",
              "      <th>MntMeatProducts</th>\n",
              "      <th>MntFishProducts</th>\n",
              "      <th>MntSweetProducts</th>\n",
              "      <th>MntGoldProds</th>\n",
              "      <th>NumDealsPurchases</th>\n",
              "      <th>NumWebPurchases</th>\n",
              "      <th>NumCatalogPurchases</th>\n",
              "      <th>NumStorePurchases</th>\n",
              "      <th>NumWebVisitsMonth</th>\n",
              "      <th>AcceptedCmp3</th>\n",
              "      <th>AcceptedCmp4</th>\n",
              "      <th>AcceptedCmp5</th>\n",
              "      <th>AcceptedCmp1</th>\n",
              "      <th>AcceptedCmp2</th>\n",
              "      <th>Dependentes</th>\n",
              "      <th>Idade</th>\n",
              "    </tr>\n",
              "  </thead>\n",
              "  <tbody>\n",
              "    <tr>\n",
              "      <th>count</th>\n",
              "      <td>2240.000000</td>\n",
              "      <td>2240.000000</td>\n",
              "      <td>2240.000000</td>\n",
              "      <td>2240.000000</td>\n",
              "      <td>2240.000000</td>\n",
              "      <td>2240.000000</td>\n",
              "      <td>2240.000000</td>\n",
              "      <td>2240.000000</td>\n",
              "      <td>2240.000000</td>\n",
              "      <td>2240.000000</td>\n",
              "      <td>2240.000000</td>\n",
              "      <td>2240.000000</td>\n",
              "      <td>2240.000000</td>\n",
              "      <td>2240.000000</td>\n",
              "      <td>2240.000000</td>\n",
              "      <td>2240.000000</td>\n",
              "      <td>2240.000000</td>\n",
              "      <td>2240.000000</td>\n",
              "      <td>2240.000000</td>\n",
              "      <td>2240.000000</td>\n",
              "      <td>2240.000000</td>\n",
              "      <td>2240.000000</td>\n",
              "      <td>2240.000000</td>\n",
              "    </tr>\n",
              "    <tr>\n",
              "      <th>mean</th>\n",
              "      <td>1968.901786</td>\n",
              "      <td>52247.251339</td>\n",
              "      <td>0.444196</td>\n",
              "      <td>0.506250</td>\n",
              "      <td>49.109375</td>\n",
              "      <td>303.935714</td>\n",
              "      <td>26.302232</td>\n",
              "      <td>166.950000</td>\n",
              "      <td>37.525446</td>\n",
              "      <td>27.062946</td>\n",
              "      <td>44.021875</td>\n",
              "      <td>2.325000</td>\n",
              "      <td>4.084821</td>\n",
              "      <td>2.662054</td>\n",
              "      <td>5.790179</td>\n",
              "      <td>5.316518</td>\n",
              "      <td>0.072768</td>\n",
              "      <td>0.074554</td>\n",
              "      <td>0.072768</td>\n",
              "      <td>0.064286</td>\n",
              "      <td>0.013393</td>\n",
              "      <td>0.950446</td>\n",
              "      <td>52.098214</td>\n",
              "    </tr>\n",
              "    <tr>\n",
              "      <th>std</th>\n",
              "      <td>11.694076</td>\n",
              "      <td>25037.797168</td>\n",
              "      <td>0.538398</td>\n",
              "      <td>0.544538</td>\n",
              "      <td>28.962453</td>\n",
              "      <td>336.597393</td>\n",
              "      <td>39.773434</td>\n",
              "      <td>225.715373</td>\n",
              "      <td>54.628979</td>\n",
              "      <td>41.280498</td>\n",
              "      <td>52.167439</td>\n",
              "      <td>1.932238</td>\n",
              "      <td>2.778714</td>\n",
              "      <td>2.923101</td>\n",
              "      <td>3.250958</td>\n",
              "      <td>2.426645</td>\n",
              "      <td>0.259813</td>\n",
              "      <td>0.262728</td>\n",
              "      <td>0.259813</td>\n",
              "      <td>0.245316</td>\n",
              "      <td>0.114976</td>\n",
              "      <td>0.751803</td>\n",
              "      <td>11.694076</td>\n",
              "    </tr>\n",
              "    <tr>\n",
              "      <th>min</th>\n",
              "      <td>1940.000000</td>\n",
              "      <td>1730.000000</td>\n",
              "      <td>0.000000</td>\n",
              "      <td>0.000000</td>\n",
              "      <td>0.000000</td>\n",
              "      <td>0.000000</td>\n",
              "      <td>0.000000</td>\n",
              "      <td>0.000000</td>\n",
              "      <td>0.000000</td>\n",
              "      <td>0.000000</td>\n",
              "      <td>0.000000</td>\n",
              "      <td>0.000000</td>\n",
              "      <td>0.000000</td>\n",
              "      <td>0.000000</td>\n",
              "      <td>0.000000</td>\n",
              "      <td>0.000000</td>\n",
              "      <td>0.000000</td>\n",
              "      <td>0.000000</td>\n",
              "      <td>0.000000</td>\n",
              "      <td>0.000000</td>\n",
              "      <td>0.000000</td>\n",
              "      <td>0.000000</td>\n",
              "      <td>25.000000</td>\n",
              "    </tr>\n",
              "    <tr>\n",
              "      <th>25%</th>\n",
              "      <td>1959.000000</td>\n",
              "      <td>35538.750000</td>\n",
              "      <td>0.000000</td>\n",
              "      <td>0.000000</td>\n",
              "      <td>24.000000</td>\n",
              "      <td>23.750000</td>\n",
              "      <td>1.000000</td>\n",
              "      <td>16.000000</td>\n",
              "      <td>3.000000</td>\n",
              "      <td>1.000000</td>\n",
              "      <td>9.000000</td>\n",
              "      <td>1.000000</td>\n",
              "      <td>2.000000</td>\n",
              "      <td>0.000000</td>\n",
              "      <td>3.000000</td>\n",
              "      <td>3.000000</td>\n",
              "      <td>0.000000</td>\n",
              "      <td>0.000000</td>\n",
              "      <td>0.000000</td>\n",
              "      <td>0.000000</td>\n",
              "      <td>0.000000</td>\n",
              "      <td>0.000000</td>\n",
              "      <td>44.000000</td>\n",
              "    </tr>\n",
              "    <tr>\n",
              "      <th>50%</th>\n",
              "      <td>1970.000000</td>\n",
              "      <td>51741.500000</td>\n",
              "      <td>0.000000</td>\n",
              "      <td>0.000000</td>\n",
              "      <td>49.000000</td>\n",
              "      <td>173.500000</td>\n",
              "      <td>8.000000</td>\n",
              "      <td>67.000000</td>\n",
              "      <td>12.000000</td>\n",
              "      <td>8.000000</td>\n",
              "      <td>24.000000</td>\n",
              "      <td>2.000000</td>\n",
              "      <td>4.000000</td>\n",
              "      <td>2.000000</td>\n",
              "      <td>5.000000</td>\n",
              "      <td>6.000000</td>\n",
              "      <td>0.000000</td>\n",
              "      <td>0.000000</td>\n",
              "      <td>0.000000</td>\n",
              "      <td>0.000000</td>\n",
              "      <td>0.000000</td>\n",
              "      <td>1.000000</td>\n",
              "      <td>51.000000</td>\n",
              "    </tr>\n",
              "    <tr>\n",
              "      <th>75%</th>\n",
              "      <td>1977.000000</td>\n",
              "      <td>68289.750000</td>\n",
              "      <td>1.000000</td>\n",
              "      <td>1.000000</td>\n",
              "      <td>74.000000</td>\n",
              "      <td>504.250000</td>\n",
              "      <td>33.000000</td>\n",
              "      <td>232.000000</td>\n",
              "      <td>50.000000</td>\n",
              "      <td>33.000000</td>\n",
              "      <td>56.000000</td>\n",
              "      <td>3.000000</td>\n",
              "      <td>6.000000</td>\n",
              "      <td>4.000000</td>\n",
              "      <td>8.000000</td>\n",
              "      <td>7.000000</td>\n",
              "      <td>0.000000</td>\n",
              "      <td>0.000000</td>\n",
              "      <td>0.000000</td>\n",
              "      <td>0.000000</td>\n",
              "      <td>0.000000</td>\n",
              "      <td>1.000000</td>\n",
              "      <td>62.000000</td>\n",
              "    </tr>\n",
              "    <tr>\n",
              "      <th>max</th>\n",
              "      <td>1996.000000</td>\n",
              "      <td>666666.000000</td>\n",
              "      <td>2.000000</td>\n",
              "      <td>2.000000</td>\n",
              "      <td>99.000000</td>\n",
              "      <td>1493.000000</td>\n",
              "      <td>199.000000</td>\n",
              "      <td>1725.000000</td>\n",
              "      <td>259.000000</td>\n",
              "      <td>263.000000</td>\n",
              "      <td>362.000000</td>\n",
              "      <td>15.000000</td>\n",
              "      <td>27.000000</td>\n",
              "      <td>28.000000</td>\n",
              "      <td>13.000000</td>\n",
              "      <td>20.000000</td>\n",
              "      <td>1.000000</td>\n",
              "      <td>1.000000</td>\n",
              "      <td>1.000000</td>\n",
              "      <td>1.000000</td>\n",
              "      <td>1.000000</td>\n",
              "      <td>3.000000</td>\n",
              "      <td>81.000000</td>\n",
              "    </tr>\n",
              "  </tbody>\n",
              "</table>\n",
              "</div>"
            ],
            "text/plain": [
              "        Year_Birth         Income  ...  Dependentes        Idade\n",
              "count  2240.000000    2240.000000  ...  2240.000000  2240.000000\n",
              "mean   1968.901786   52247.251339  ...     0.950446    52.098214\n",
              "std      11.694076   25037.797168  ...     0.751803    11.694076\n",
              "min    1940.000000    1730.000000  ...     0.000000    25.000000\n",
              "25%    1959.000000   35538.750000  ...     0.000000    44.000000\n",
              "50%    1970.000000   51741.500000  ...     1.000000    51.000000\n",
              "75%    1977.000000   68289.750000  ...     1.000000    62.000000\n",
              "max    1996.000000  666666.000000  ...     3.000000    81.000000\n",
              "\n",
              "[8 rows x 23 columns]"
            ]
          },
          "metadata": {},
          "execution_count": 38
        }
      ]
    },
    {
      "cell_type": "markdown",
      "metadata": {
        "id": "dPR_vzX47Rzq"
      },
      "source": [
        "A média de idade dos clientes desta empresa é de 52 anos. A idade mínima dos clientes é de 25 anos e a máxima de 81 anos.\n",
        "\n",
        "A média de renda familiar anual por cliente é de 52247,25 dólares. A renda máxima é de aproximadamente 667 mil dólares e a mínima é de 1730 dólares.\n",
        "\n",
        "Os clientes desta empresa têm, no máximo, três dependentes em casa."
      ]
    },
    {
      "cell_type": "markdown",
      "metadata": {
        "id": "m9ddeAYQ7VcR"
      },
      "source": [
        "#**Análise Exploratória de Dados**"
      ]
    },
    {
      "cell_type": "markdown",
      "metadata": {
        "id": "zkILRhIrVTUC"
      },
      "source": [
        "##**Qual Perfil dos Clientes da Empresa?**"
      ]
    },
    {
      "cell_type": "markdown",
      "metadata": {
        "id": "sM8wBZiIVeO4"
      },
      "source": [
        "###**Estado Civil**"
      ]
    },
    {
      "cell_type": "code",
      "metadata": {
        "id": "Ex7sQOsj7KIX",
        "colab": {
          "base_uri": "https://localhost:8080/"
        },
        "outputId": "67d69f69-09f9-4a18-fab3-f14942e3f37b"
      },
      "source": [
        "#Frequência absoluta\n",
        "dados.groupby('Marital_Status')['Marital_Status'].count()"
      ],
      "execution_count": null,
      "outputs": [
        {
          "output_type": "execute_result",
          "data": {
            "text/plain": [
              "Marital_Status\n",
              "Absurd        2\n",
              "Alone         3\n",
              "Divorced    232\n",
              "Married     864\n",
              "Single      480\n",
              "Together    580\n",
              "Widow        77\n",
              "YOLO          2\n",
              "Name: Marital_Status, dtype: int64"
            ]
          },
          "metadata": {},
          "execution_count": 52
        }
      ]
    },
    {
      "cell_type": "code",
      "metadata": {
        "id": "ydmC4o1CXFJU"
      },
      "source": [
        "#Alterando estado civil Absurd para Absent (pessoas casadas que vivem separadas)\n",
        "def conv_estado_civil(e):\n",
        "    try:\n",
        "        return  (e.replace('Absurd','Absent'))\n",
        "    except:\n",
        "      return e     \n",
        "\n",
        "dados['Marital_Status'] = dados['Marital_Status'].apply(conv_estado_civil)"
      ],
      "execution_count": null,
      "outputs": []
    },
    {
      "cell_type": "code",
      "metadata": {
        "colab": {
          "base_uri": "https://localhost:8080/"
        },
        "id": "VFUohDnWVm9Z",
        "outputId": "be61cdc9-44ad-4a8c-fd28-d2a4623191fe"
      },
      "source": [
        "#Frequência relativa\n",
        "((dados.groupby('Marital_Status')['Marital_Status'].count())/dados.shape[0]).sort_values()"
      ],
      "execution_count": null,
      "outputs": [
        {
          "output_type": "execute_result",
          "data": {
            "text/plain": [
              "Marital_Status\n",
              "Absent      0.000893\n",
              "YOLO        0.000893\n",
              "Alone       0.001339\n",
              "Widow       0.034375\n",
              "Divorced    0.103571\n",
              "Single      0.214286\n",
              "Together    0.258929\n",
              "Married     0.385714\n",
              "Name: Marital_Status, dtype: float64"
            ]
          },
          "metadata": {},
          "execution_count": 55
        }
      ]
    },
    {
      "cell_type": "code",
      "metadata": {
        "colab": {
          "base_uri": "https://localhost:8080/",
          "height": 281
        },
        "id": "Wh0yZegxVrKc",
        "outputId": "545d9731-ca2a-4bbc-b9eb-db1e242d1447"
      },
      "source": [
        "#Gráfico da frequência relativa percentual\n",
        "((dados.groupby('Marital_Status')['Marital_Status'].count())/dados.shape[0]).sort_values().plot(kind='barh', color = 'brown', edgecolor = 'grey', title = 'Estado Civil dos Clientes');"
      ],
      "execution_count": null,
      "outputs": [
        {
          "output_type": "display_data",
          "data": {
            "image/png": "[encoded data removed]",
            "text/plain": [
              "<Figure size 432x288 with 1 Axes>"
            ]
          },
          "metadata": {
            "needs_background": "light"
          }
        }
      ]
    },
    {
      "cell_type": "markdown",
      "metadata": {
        "id": "527rjqEOVzHC"
      },
      "source": [
        "Cerca de 40% dos clientes são casados, seguidos pelos que moram juntos 25,9% e solteiros 21,43%. Os divorciados representam 10,36% e clientes viúvas 3,44% do total."
      ]
    },
    {
      "cell_type": "markdown",
      "metadata": {
        "id": "ycm1aGLIV2_Y"
      },
      "source": [
        "###**País de Localização dos Clientes**"
      ]
    },
    {
      "cell_type": "code",
      "metadata": {
        "colab": {
          "base_uri": "https://localhost:8080/"
        },
        "id": "3t3ijU-KVu6J",
        "outputId": "5daae50f-dfc9-4fe5-b52e-3b0e152858a5"
      },
      "source": [
        "#Frequência absoluta\n",
        "dados.groupby('Country')['Country'].count()"
      ],
      "execution_count": null,
      "outputs": [
        {
          "output_type": "execute_result",
          "data": {
            "text/plain": [
              "Country\n",
              "Australia         160\n",
              "Canada            268\n",
              "Germany           120\n",
              "India             148\n",
              "Montenegro          3\n",
              "Saudi Arabia      337\n",
              "Spain            1095\n",
              "United States     109\n",
              "Name: Country, dtype: int64"
            ]
          },
          "metadata": {},
          "execution_count": 42
        }
      ]
    },
    {
      "cell_type": "code",
      "metadata": {
        "colab": {
          "base_uri": "https://localhost:8080/"
        },
        "id": "4OFimbtGWBwT",
        "outputId": "403df4cd-ae75-4485-89ed-359c397239e6"
      },
      "source": [
        "#Frequência relativa\n",
        "((dados.groupby('Country')['Country'].count())/dados.shape[0]).sort_values()"
      ],
      "execution_count": null,
      "outputs": [
        {
          "output_type": "execute_result",
          "data": {
            "text/plain": [
              "Country\n",
              "Montenegro       0.001339\n",
              "United States    0.048661\n",
              "Germany          0.053571\n",
              "India            0.066071\n",
              "Australia        0.071429\n",
              "Canada           0.119643\n",
              "Saudi Arabia     0.150446\n",
              "Spain            0.488839\n",
              "Name: Country, dtype: float64"
            ]
          },
          "metadata": {},
          "execution_count": 43
        }
      ]
    },
    {
      "cell_type": "code",
      "metadata": {
        "colab": {
          "base_uri": "https://localhost:8080/",
          "height": 281
        },
        "id": "7Yb97uznWE3l",
        "outputId": "0bc01a04-149f-4717-9076-8869b6077d09"
      },
      "source": [
        "#Gráfico da frequência relativa percentual\n",
        "((dados.groupby('Country')['Country'].count())/dados.shape[0]).sort_values().plot(kind='barh', color = 'brown', edgecolor = 'grey', title = 'País de Localização dos Clientes');"
      ],
      "execution_count": null,
      "outputs": [
        {
          "output_type": "display_data",
          "data": {
            "image/png": "[encoded data removed]",
            "text/plain": [
              "<Figure size 432x288 with 1 Axes>"
            ]
          },
          "metadata": {
            "needs_background": "light"
          }
        }
      ]
    },
    {
      "cell_type": "markdown",
      "metadata": {
        "id": "YR_l6TgVWOoc"
      },
      "source": [
        "Observa-se que 48,89% dos clientes são da Espanha, quase metade de todos os consumidores desta empresa. Em seguida, pessoas da Arábia Saudita 15,05%, Canadá 11,96%, Austrália 7,14%, Índia 6,61%, Alemanha 5,36%, Estados Unidos 4,87% e Montenegro 0,13% fazem parte da carteira de clientes desta organização."
      ]
    },
    {
      "cell_type": "markdown",
      "metadata": {
        "id": "J1scegmWWR49"
      },
      "source": [
        "###**Idade**"
      ]
    },
    {
      "cell_type": "code",
      "metadata": {
        "id": "ypi8dAXLWJJM"
      },
      "source": [
        "#Criando grupo de idades com cortes de 10 em 10 anos\n",
        "cortesi = [0, 25, 35, 45, 55, 65, 75, 85]\n",
        "nomesi = ['[18,25]', '[26,35]', '[36,45]', '[46,55]','[56,65]','[66,75]','[76,85]']\n",
        "dados['Idade_Grupos'] = pd.cut(dados['Idade'], bins = cortesi, labels = nomesi)"
      ],
      "execution_count": null,
      "outputs": []
    },
    {
      "cell_type": "code",
      "metadata": {
        "colab": {
          "base_uri": "https://localhost:8080/"
        },
        "id": "vl7MemI_WX1d",
        "outputId": "e7768e87-2174-4a55-ffe0-38c2c5dc7a3d"
      },
      "source": [
        "#Frequência relativa da variável Idade dividida em grupos\n",
        "((dados.groupby('Idade_Grupos')['Idade_Grupos'].count())/dados.shape[0]).sort_values()"
      ],
      "execution_count": null,
      "outputs": [
        {
          "output_type": "execute_result",
          "data": {
            "text/plain": [
              "Idade_Grupos\n",
              "[18,25]    0.000893\n",
              "[76,85]    0.010714\n",
              "[26,35]    0.083482\n",
              "[66,75]    0.152232\n",
              "[56,65]    0.219643\n",
              "[36,45]    0.225893\n",
              "[46,55]    0.307143\n",
              "Name: Idade_Grupos, dtype: float64"
            ]
          },
          "metadata": {},
          "execution_count": 46
        }
      ]
    },
    {
      "cell_type": "code",
      "metadata": {
        "colab": {
          "base_uri": "https://localhost:8080/",
          "height": 281
        },
        "id": "6VmmcPHpWa_B",
        "outputId": "63730dcd-8dec-47ed-9b8b-ed4d62e4fb59"
      },
      "source": [
        "#Gráfico da frequência relativa da variável Idade dividida em grupos\n",
        "((dados.groupby('Idade_Grupos')['Idade_Grupos'].count())/dados.shape[0]).sort_values().plot(kind = 'barh', color = 'brown', edgecolor = 'grey', title = 'Proporção de Clientes por Grupos de Idade');"
      ],
      "execution_count": null,
      "outputs": [
        {
          "output_type": "display_data",
          "data": {
            "image/png": "[encoded data removed]",
            "text/plain": [
              "<Figure size 432x288 with 1 Axes>"
            ]
          },
          "metadata": {
            "needs_background": "light"
          }
        }
      ]
    },
    {
      "cell_type": "markdown",
      "metadata": {
        "id": "UceP-8l6WjTC"
      },
      "source": [
        "Os quatro grupos de idades com maiores proporções entre todos os clientes desta empresa são:\n",
        "\n",
        "entre 46 e 55 anos - 30,71%\n",
        "entre 36 e 45 anos - 22,59%\n",
        "entre 56 e 65 anos - 21,97%\n",
        "entre 66 e 75 anos - 15,22%\n",
        "Os mais jovens - entre 25 e 35 anos - representam pouco mais de 8% dos clientes.\n",
        "\n",
        "A faixa etária entre 76 e 85 anos apresentou proporção de 10,71% dos clientes."
      ]
    },
    {
      "cell_type": "markdown",
      "metadata": {
        "id": "Ns4XKeVaWn5l"
      },
      "source": [
        "###**Dependentes**"
      ]
    },
    {
      "cell_type": "code",
      "metadata": {
        "colab": {
          "base_uri": "https://localhost:8080/"
        },
        "id": "BveS3-YyWehO",
        "outputId": "7828666c-5b4a-460a-9ce2-53cf1f5adc0e"
      },
      "source": [
        "#Frequência absoluta\n",
        "dados.groupby('Dependentes')['Dependentes'].count()"
      ],
      "execution_count": null,
      "outputs": [
        {
          "output_type": "execute_result",
          "data": {
            "text/plain": [
              "Dependentes\n",
              "0     638\n",
              "1    1128\n",
              "2     421\n",
              "3      53\n",
              "Name: Dependentes, dtype: int64"
            ]
          },
          "metadata": {},
          "execution_count": 48
        }
      ]
    },
    {
      "cell_type": "code",
      "metadata": {
        "colab": {
          "base_uri": "https://localhost:8080/"
        },
        "id": "bVvZfMqjWrme",
        "outputId": "00997b8c-083c-460b-b073-0dc39aee3be9"
      },
      "source": [
        "#Frequência relativa\n",
        "((dados.groupby('Dependentes')['Dependentes'].count())/dados.shape[0]).sort_values()"
      ],
      "execution_count": null,
      "outputs": [
        {
          "output_type": "execute_result",
          "data": {
            "text/plain": [
              "Dependentes\n",
              "3    0.023661\n",
              "2    0.187946\n",
              "0    0.284821\n",
              "1    0.503571\n",
              "Name: Dependentes, dtype: float64"
            ]
          },
          "metadata": {},
          "execution_count": 49
        }
      ]
    },
    {
      "cell_type": "code",
      "metadata": {
        "colab": {
          "base_uri": "https://localhost:8080/",
          "height": 281
        },
        "id": "s_TbottZWu0y",
        "outputId": "8b949031-1721-4d2c-e575-f002c77cb5b9"
      },
      "source": [
        "#Gráfico da frequência relativa percentual\n",
        "((dados.groupby('Dependentes')['Dependentes'].count())/dados.shape[0]).sort_values().plot(kind ='barh', color = 'brown', edgecolor = 'grey', title = 'Proporção de Dependentes dos Clientes');"
      ],
      "execution_count": null,
      "outputs": [
        {
          "output_type": "display_data",
          "data": {
            "image/png": "[encoded data removed]",
            "text/plain": [
              "<Figure size 432x288 with 1 Axes>"
            ]
          },
          "metadata": {
            "needs_background": "light"
          }
        }
      ]
    },
    {
      "cell_type": "markdown",
      "metadata": {
        "id": "CvSUv0vIW31f"
      },
      "source": [
        "A maior proporção dos clientes têm apenas um filho (50,36%) e a menor proporção (2,37%) têm três filhos.\n",
        "\n",
        "28,48% não possuem filhos e 18,79% têm dois filhos."
      ]
    },
    {
      "cell_type": "markdown",
      "metadata": {
        "id": "1NOTJ6AcW6lI"
      },
      "source": [
        "###**Grau de Instrução**"
      ]
    },
    {
      "cell_type": "code",
      "metadata": {
        "colab": {
          "base_uri": "https://localhost:8080/"
        },
        "id": "ZieQ7AgYWyMM",
        "outputId": "903fb824-6037-4117-8128-9492e36a6a37"
      },
      "source": [
        "#Frequência absoluta\n",
        "dados.groupby('Education')['Education'].count()"
      ],
      "execution_count": null,
      "outputs": [
        {
          "output_type": "execute_result",
          "data": {
            "text/plain": [
              "Education\n",
              "2n Cycle       203\n",
              "Basic           54\n",
              "Graduation    1127\n",
              "Master         370\n",
              "PhD            486\n",
              "Name: Education, dtype: int64"
            ]
          },
          "metadata": {},
          "execution_count": 51
        }
      ]
    },
    {
      "cell_type": "code",
      "metadata": {
        "colab": {
          "base_uri": "https://localhost:8080/"
        },
        "id": "7qau-MlEXBuQ",
        "outputId": "ad86d3e7-d467-46ab-c12b-b1f5e373ba2e"
      },
      "source": [
        "#Frequência relativa\n",
        "((dados.groupby('Education')['Education'].count())/dados.shape[0]).sort_values()"
      ],
      "execution_count": null,
      "outputs": [
        {
          "output_type": "execute_result",
          "data": {
            "text/plain": [
              "Education\n",
              "Basic         0.024107\n",
              "2n Cycle      0.090625\n",
              "Master        0.165179\n",
              "PhD           0.216964\n",
              "Graduation    0.503125\n",
              "Name: Education, dtype: float64"
            ]
          },
          "metadata": {},
          "execution_count": 52
        }
      ]
    },
    {
      "cell_type": "code",
      "metadata": {
        "colab": {
          "base_uri": "https://localhost:8080/",
          "height": 281
        },
        "id": "XTZCQmyWXEjB",
        "outputId": "56617477-1115-44a8-c8e5-ca55c978dc65"
      },
      "source": [
        "#Gráfico da frequência relativa percentual\n",
        "((dados.groupby('Education')['Education'].count())/dados.shape[0]).sort_values().plot(kind = 'barh', color = 'brown', edgecolor = 'grey', title = 'Grau de Instrução dos Clientes');"
      ],
      "execution_count": null,
      "outputs": [
        {
          "output_type": "display_data",
          "data": {
            "image/png": "[encoded data removed]",
            "text/plain": [
              "<Figure size 432x288 with 1 Axes>"
            ]
          },
          "metadata": {
            "needs_background": "light"
          }
        }
      ]
    },
    {
      "cell_type": "markdown",
      "metadata": {
        "id": "fDsG0k5YXP1l"
      },
      "source": [
        "A maior parte dos clientes possui pós-graduação, representando 50,31%. Em sequência, 21,71% dos clientes têm PhD, 16,52% possuem mestrado, 9,06% possuem pós-graduação (2n Cycle em alguns países e universidades pode ser conhecido como pós-graduação) e 2,41% têm graduação.\n",
        "\n",
        "Podemos concluir que todos os clientes desta organização têm grau de instrução elevado, seja por possuírem uma graduação ou até mesmo doutorado."
      ]
    },
    {
      "cell_type": "markdown",
      "metadata": {
        "id": "UGixZBBHXTWZ"
      },
      "source": [
        "###**Renda Familiar Anual**"
      ]
    },
    {
      "cell_type": "code",
      "metadata": {
        "id": "zkLhTRHHXKKk"
      },
      "source": [
        "#Gerando um intervalo de classes da variável Income\n",
        "dados['Renda_Familiar'] = pd.cut(dados['Income'], bins = [1000, 10000, 20000, 30000, 40000, 50000, 60000, 70000, 80000, 90000, 100000,700000], labels = ['1k a 10k', '11k a 20k', '21k a 30k', '31k a 40k','41k a 50k', '51k a 60k','61k a 70k','71k a 80k', '81k a 90k', '91k a 100k', 'Acima de 100k'])"
      ],
      "execution_count": null,
      "outputs": []
    },
    {
      "cell_type": "code",
      "metadata": {
        "colab": {
          "base_uri": "https://localhost:8080/"
        },
        "id": "qm9jMf65XaIw",
        "outputId": "3312feff-bf81-41fa-94dc-e7bbebd77571"
      },
      "source": [
        "#Frequência absoluta\n",
        "dados.groupby('Renda_Familiar')['Renda_Familiar'].count()"
      ],
      "execution_count": null,
      "outputs": [
        {
          "output_type": "execute_result",
          "data": {
            "text/plain": [
              "Renda_Familiar\n",
              "1k a 10k          29\n",
              "11k a 20k         98\n",
              "21k a 30k        243\n",
              "31k a 40k        362\n",
              "41k a 50k        328\n",
              "51k a 60k        339\n",
              "61k a 70k        333\n",
              "71k a 80k        291\n",
              "81k a 90k        164\n",
              "91k a 100k        40\n",
              "Acima de 100k     13\n",
              "Name: Renda_Familiar, dtype: int64"
            ]
          },
          "metadata": {},
          "execution_count": 55
        }
      ]
    },
    {
      "cell_type": "code",
      "metadata": {
        "colab": {
          "base_uri": "https://localhost:8080/"
        },
        "id": "YO_WxE0IXg_F",
        "outputId": "f85ff6c7-bca7-4a99-f17f-deed70eb0526"
      },
      "source": [
        "#Frequência relativa\n",
        "((dados.groupby('Renda_Familiar')['Renda_Familiar'].count())/dados.shape[0]).sort_values()"
      ],
      "execution_count": null,
      "outputs": [
        {
          "output_type": "execute_result",
          "data": {
            "text/plain": [
              "Renda_Familiar\n",
              "Acima de 100k    0.005804\n",
              "1k a 10k         0.012946\n",
              "91k a 100k       0.017857\n",
              "11k a 20k        0.043750\n",
              "81k a 90k        0.073214\n",
              "21k a 30k        0.108482\n",
              "71k a 80k        0.129911\n",
              "41k a 50k        0.146429\n",
              "61k a 70k        0.148661\n",
              "51k a 60k        0.151339\n",
              "31k a 40k        0.161607\n",
              "Name: Renda_Familiar, dtype: float64"
            ]
          },
          "metadata": {},
          "execution_count": 56
        }
      ]
    },
    {
      "cell_type": "code",
      "metadata": {
        "colab": {
          "base_uri": "https://localhost:8080/",
          "height": 281
        },
        "id": "kf4Mj-hfXj2p",
        "outputId": "c6e659a6-49a5-4201-ae8f-e90c625139b8"
      },
      "source": [
        "#Gráfico da frequência relativa percentual\n",
        "((dados.groupby('Renda_Familiar')['Renda_Familiar'].count())/dados.shape[0]).sort_values().plot(kind ='barh', color = 'brown', edgecolor = 'grey', title = 'Renda Familiar Anual dos Clientes' );"
      ],
      "execution_count": null,
      "outputs": [
        {
          "output_type": "display_data",
          "data": {
            "image/png": "[encoded data removed]",
            "text/plain": [
              "<Figure size 432x288 with 1 Axes>"
            ]
          },
          "metadata": {
            "needs_background": "light"
          }
        }
      ]
    },
    {
      "cell_type": "markdown",
      "metadata": {
        "id": "0zPFY0IYXtKU"
      },
      "source": [
        "A maior proporção de clientes desta empresa possui renda familiar anual entre 31 a 40 mil dólares, representando 16,16% do total. A menor parcela recebe acima de 100 mil dólares representando menos de 0,6% do total.\n",
        "\n",
        "Podemos concluir que a maior parte dos clientes desta empresa são casados, têm entre 46 e 55 anos, residem na Espanha e possuem apenas um filho. Têm como grau de instrução pós-graduação e uma renda familiar anual entre 31 e 40 mil dólares."
      ]
    },
    {
      "cell_type": "markdown",
      "metadata": {
        "id": "Vet51u04Xyw7"
      },
      "source": [
        "##**Qual campanha de marketing teve mais sucesso?**"
      ]
    },
    {
      "cell_type": "code",
      "metadata": {
        "id": "pvxuDj5dZoqv"
      },
      "source": [
        "#Usando a função melt do pandas para concatenar as variáveis das campanhas e seus valores\n",
        "cmp_concat = dados.melt(value_vars = ['AcceptedCmp1', 'AcceptedCmp2', 'AcceptedCmp3', 'AcceptedCmp4', 'AcceptedCmp5'], var_name = 'campanhas', value_name = 'success', ignore_index = True)"
      ],
      "execution_count": null,
      "outputs": []
    },
    {
      "cell_type": "code",
      "metadata": {
        "id": "9zWS-mOH6_NV"
      },
      "source": [
        "cmp_success = cmp_concat[cmp_concat['success'] == 1]"
      ],
      "execution_count": null,
      "outputs": []
    },
    {
      "cell_type": "code",
      "metadata": {
        "id": "9aAwEmRBa-GC"
      },
      "source": [
        "#Importando as bibliotecas seaborn, numpy e matplotlib\n",
        "import seaborn as sns\n",
        "import numpy as np\n",
        "import matplotlib.pyplot as plt"
      ],
      "execution_count": null,
      "outputs": []
    },
    {
      "cell_type": "code",
      "metadata": {
        "colab": {
          "base_uri": "https://localhost:8080/",
          "height": 453
        },
        "id": "bYYrJ6Ia6Xrq",
        "outputId": "9d3976af-d940-4174-9001-a5baafe92b9f"
      },
      "source": [
        "#Atualizando a versão matplotlib\n",
        "!pip install --upgrade matplotlib"
      ],
      "execution_count": null,
      "outputs": [
        {
          "output_type": "stream",
          "name": "stdout",
          "text": [
            "Requirement already satisfied: matplotlib in /usr/local/lib/python3.7/dist-packages (3.2.2)\n",
            "Collecting matplotlib\n",
            "  Downloading matplotlib-3.4.3-cp37-cp37m-manylinux1_x86_64.whl (10.3 MB)\n",
            "\u001b[K     |████████████████████████████████| 10.3 MB 5.1 MB/s \n",
            "\u001b[?25hRequirement already satisfied: pillow>=6.2.0 in /usr/local/lib/python3.7/dist-packages (from matplotlib) (7.1.2)\n",
            "Requirement already satisfied: pyparsing>=2.2.1 in /usr/local/lib/python3.7/dist-packages (from matplotlib) (2.4.7)\n",
            "Requirement already satisfied: kiwisolver>=1.0.1 in /usr/local/lib/python3.7/dist-packages (from matplotlib) (1.3.2)\n",
            "Requirement already satisfied: python-dateutil>=2.7 in /usr/local/lib/python3.7/dist-packages (from matplotlib) (2.8.2)\n",
            "Requirement already satisfied: cycler>=0.10 in /usr/local/lib/python3.7/dist-packages (from matplotlib) (0.10.0)\n",
            "Requirement already satisfied: numpy>=1.16 in /usr/local/lib/python3.7/dist-packages (from matplotlib) (1.19.5)\n",
            "Requirement already satisfied: six in /usr/local/lib/python3.7/dist-packages (from cycler>=0.10->matplotlib) (1.15.0)\n",
            "Installing collected packages: matplotlib\n",
            "  Attempting uninstall: matplotlib\n",
            "    Found existing installation: matplotlib 3.2.2\n",
            "    Uninstalling matplotlib-3.2.2:\n",
            "      Successfully uninstalled matplotlib-3.2.2\n",
            "\u001b[31mERROR: pip's dependency resolver does not currently take into account all the packages that are installed. This behaviour is the source of the following dependency conflicts.\n",
            "albumentations 0.1.12 requires imgaug<0.2.7,>=0.2.5, but you have imgaug 0.2.9 which is incompatible.\u001b[0m\n",
            "Successfully installed matplotlib-3.4.3\n"
          ]
        },
        {
          "output_type": "display_data",
          "data": {
            "application/vnd.colab-display-data+json": {
              "pip_warning": {
                "packages": [
                  "matplotlib",
                  "mpl_toolkits"
                ]
              }
            }
          },
          "metadata": {}
        }
      ]
    },
    {
      "cell_type": "code",
      "metadata": {
        "colab": {
          "base_uri": "https://localhost:8080/",
          "height": 295
        },
        "id": "pmJzjyWLbFoA",
        "outputId": "95a55167-63ff-4075-a499-8d94dd268099"
      },
      "source": [
        "#Gráfico das campanhas de marketing computando os aceites dos clientes\n",
        "barplot = sns.barplot(y = 'campanhas', x = 'success', data = cmp_success, ci = None, estimator = np.sum, color = 'blue')\n",
        "\n",
        "#Título e eixos do gráfico\n",
        "plt.title('Sucesso das Campanhas')\n",
        "plt.ylabel('Campanha')\n",
        "plt.xlabel('Quantidade de Aceites')\n",
        "\n",
        "#Rótulos do gráfico\n",
        "barplot.bar_label(barplot.containers[0])\n",
        "\n",
        "#Plotagem do gráfico\n",
        "plt.show()"
      ],
      "execution_count": null,
      "outputs": [
        {
          "output_type": "display_data",
          "data": {
            "image/png": "[encoded data removed]",
            "text/plain": [
              "<Figure size 432x288 with 1 Axes>"
            ]
          },
          "metadata": {
            "needs_background": "light"
          }
        }
      ]
    },
    {
      "cell_type": "markdown",
      "metadata": {
        "id": "szzsNzrGcCv9"
      },
      "source": [
        "Em relação ao sucesso de cada campanha, a campanha 4 se sobressaiu com 167 aceites dos clientes. \n",
        "\n",
        "Em seguida as campanhas 3 e 5 com 163 aceites e a campanha 1 teve 144 aceites.\n",
        "\n",
        "A pior performance foi referente a campanha 2 com apenas 30 aceites dos clientes."
      ]
    },
    {
      "cell_type": "markdown",
      "metadata": {
        "id": "OqUPLgN_I5og"
      },
      "source": [
        "##**Quais produtos estão performando melhor? E quais estão performando pior?**"
      ]
    },
    {
      "cell_type": "code",
      "metadata": {
        "id": "DglFUtv2xOLd"
      },
      "source": [
        "#Usando a função melt do pandas para concatenar as variáveis dos produtos e seus valores\n",
        "prod_concat = dados.melt(value_vars = ['MntWines', 'MntFruits', 'MntMeatProducts', 'MntFishProducts', 'MntSweetProducts', 'MntGoldProds'], var_name = 'produtos', value_name = 'quantidade', ignore_index = True)"
      ],
      "execution_count": null,
      "outputs": []
    },
    {
      "cell_type": "code",
      "metadata": {
        "colab": {
          "base_uri": "https://localhost:8080/",
          "height": 314
        },
        "id": "GIz8QtFoK1Eu",
        "outputId": "369519cb-8a4f-4fb6-b0e3-8dced603bf2b"
      },
      "source": [
        "#Gráfico dos produtos e quantidade gasta em cada um\n",
        "barplot1 = sns.barplot(y = 'produtos', x = 'quantidade', data = prod_concat, ci = None, estimator = np.sum, color = 'blue')\n",
        "\n",
        "#Título e eixos do gráfico\n",
        "plt.title('Quantidade Gasta por Produto nos Últimos Dois Anos')\n",
        "plt.ylabel('Produto')\n",
        "plt.xlabel('Quantidade')\n",
        "\n",
        "#Rótulos do gráfico\n",
        "plt.figure(figsize=(10,8))\n",
        "barplot1.bar_label(barplot1.containers[0])\n",
        "\n",
        "#Plotagem do gráfico\n",
        "plt.show()"
      ],
      "execution_count": null,
      "outputs": [
        {
          "output_type": "display_data",
          "data": {
            "image/png": "[encoded data removed]",
            "text/plain": [
              "<Figure size 432x288 with 1 Axes>"
            ]
          },
          "metadata": {
            "needs_background": "light"
          }
        },
        {
          "output_type": "display_data",
          "data": {
            "text/plain": [
              "<Figure size 720x576 with 0 Axes>"
            ]
          },
          "metadata": {}
        }
      ]
    },
    {
      "cell_type": "markdown",
      "metadata": {
        "id": "2gAYyjG4TYp9"
      },
      "source": [
        "O produto com melhor performance na empresa é vinho com pouco mais de 680 mil unidades comprados pelos clientes.\n",
        "\n",
        "Em seguida produtos como carne, ouro e peixe têm boa performance.\n",
        "\n",
        "Os produtos com pior performence são frutas e doces."
      ]
    },
    {
      "cell_type": "markdown",
      "metadata": {
        "id": "YJW5NlfNYjjg"
      },
      "source": [
        "##**Qual o desempenho dos canais de venda da empresa?**"
      ]
    },
    {
      "cell_type": "code",
      "metadata": {
        "id": "LBZqJcU-XmPK"
      },
      "source": [
        "#Usando a função melt do pandas para concatenar as variáveis dos canais de venda e seus valores\n",
        "canais_concat = dados.melt(value_vars = ['NumDealsPurchases', 'NumWebPurchases', 'NumCatalogPurchases', 'NumStorePurchases'], var_name = 'canais', value_name = 'compras', ignore_index = True)"
      ],
      "execution_count": null,
      "outputs": []
    },
    {
      "cell_type": "code",
      "metadata": {
        "colab": {
          "base_uri": "https://localhost:8080/",
          "height": 312
        },
        "id": "73xSbtewZsvN",
        "outputId": "8450adae-fc8f-42c4-86d2-18688acd9021"
      },
      "source": [
        "#Gráfico do desempenho dos canais de venda\n",
        "barplot2 = sns.barplot(y = 'canais', x = 'compras', data = canais_concat, ci = None, estimator = np.sum, color = 'blue')\n",
        "\n",
        "#Título e eixos do gráfico\n",
        "plt.title('Quantidade de Compras Realizadas nos Canais de Venda ')\n",
        "plt.ylabel('Canais de Venda')\n",
        "plt.xlabel('Compras')\n",
        "\n",
        "#Rótulos do gráfico\n",
        "plt.figure(figsize=(10,8))\n",
        "barplot2.bar_label(barplot2.containers[0])\n",
        "\n",
        "#Plotagem do gráfico\n",
        "plt.show()"
      ],
      "execution_count": null,
      "outputs": [
        {
          "output_type": "display_data",
          "data": {
            "image/png": "[encoded data removed]",
            "text/plain": [
              "<Figure size 432x288 with 1 Axes>"
            ]
          },
          "metadata": {
            "needs_background": "light"
          }
        },
        {
          "output_type": "display_data",
          "data": {
            "text/plain": [
              "<Figure size 720x576 with 0 Axes>"
            ]
          },
          "metadata": {}
        }
      ]
    },
    {
      "cell_type": "markdown",
      "metadata": {
        "id": "uK9sdm_0aYFf"
      },
      "source": [
        "A maior quantidade de compras feitas pelos consumidores é através das lojas (quantidade considerando compras realizadas diariamente) com aproximadamente 13 mil compras.\n",
        "\n",
        "Compras realizadas pelo site vêm em seguida apresentando boa performance, com 9150 compras feitas pelos clientes.\n",
        "\n",
        "Os canais de vendas com pior performance são compras feitas usando um catálogo (5963) e realizadas com desconto (5208). "
      ]
    },
    {
      "cell_type": "markdown",
      "metadata": {
        "id": "TpfDNwGzsUBL"
      },
      "source": [
        "##**Qual a quantidade gasta em produtos por país de localização do cliente?**"
      ]
    },
    {
      "cell_type": "code",
      "metadata": {
        "colab": {
          "base_uri": "https://localhost:8080/",
          "height": 312
        },
        "id": "0hmK22ZEdVWe",
        "outputId": "12a41edf-db21-478b-a422-4642067389a0"
      },
      "source": [
        "#Gráfico da quantidade gasta em produtos e país do cliente\n",
        "barplot3 = sns.barplot(y = dados['Country'], x = 'quantidade', data = prod_concat, ci = None, estimator = np.sum, color = 'blue')\n",
        "\n",
        "#Título e eixos do gráfico\n",
        "plt.title('Quantidade Gasta em Produtos por País')\n",
        "plt.ylabel('País')\n",
        "plt.xlabel('Quantidade')\n",
        "\n",
        "#Rótulos do gráfico\n",
        "plt.figure(figsize=(10,8))\n",
        "barplot3.bar_label(barplot3.containers[0])\n",
        "\n",
        "#Plotagem do gráfico\n",
        "plt.show()"
      ],
      "execution_count": null,
      "outputs": [
        {
          "output_type": "display_data",
          "data": {
            "image/png": "[encoded data removed]",
            "text/plain": [
              "<Figure size 432x288 with 1 Axes>"
            ]
          },
          "metadata": {
            "needs_background": "light"
          }
        },
        {
          "output_type": "display_data",
          "data": {
            "text/plain": [
              "<Figure size 720x576 with 0 Axes>"
            ]
          },
          "metadata": {}
        }
      ]
    },
    {
      "cell_type": "markdown",
      "metadata": {
        "id": "4YueEn38uiCm"
      },
      "source": [
        "Podemos observar que a Espanha é o país com maior quantidade gasta em produtos por clientes nos últimos dois anos.\n",
        "\n",
        "Em sequência, Arábia Saudita com quase 106 mil produtos consumidos e Canadá com 84649 produtos.\n",
        "\n",
        "Os países que menos consomem em produtos da empresa são Montenegro e Estados Unidos, respectivamente."
      ]
    },
    {
      "cell_type": "markdown",
      "metadata": {
        "id": "bLXOzPiyzpF4"
      },
      "source": [
        "##**Considerando o canal de vendas com melhor perfomance, qual a quantidade de compras realizadas em relação a: estado civil, grau de instrução e dependentes dos clientes?**"
      ]
    },
    {
      "cell_type": "code",
      "metadata": {
        "colab": {
          "base_uri": "https://localhost:8080/",
          "height": 312
        },
        "id": "Y0-sgHP1AjkS",
        "outputId": "dbfd7197-c330-452c-d5db-bbc1428f5626"
      },
      "source": [
        "#Gráfico da quantidade de compras no canal com melhor perfomance em relação ao estado civil\n",
        "barplot4 = sns.barplot(y = dados['Marital_Status'], x = dados['NumStorePurchases'], data = dados, ci = None, estimator = np.sum, color = 'blue')\n",
        "\n",
        "#Título e eixos do gráfico\n",
        "plt.title('Quantidade de Compras Realizadas nas Lojas por Estado Civil')\n",
        "plt.ylabel('Estado Civil')\n",
        "plt.xlabel('Quantidade')\n",
        "\n",
        "#Rótulos do gráfico\n",
        "plt.figure(figsize=(10,8))\n",
        "barplot4.bar_label(barplot4.containers[0])\n",
        "\n",
        "#Plotagem do gráfico\n",
        "plt.show()"
      ],
      "execution_count": null,
      "outputs": [
        {
          "output_type": "display_data",
          "data": {
            "image/png": "[encoded data removed]",
            "text/plain": [
              "<Figure size 432x288 with 1 Axes>"
            ]
          },
          "metadata": {
            "needs_background": "light"
          }
        },
        {
          "output_type": "display_data",
          "data": {
            "text/plain": [
              "<Figure size 720x576 with 0 Axes>"
            ]
          },
          "metadata": {}
        }
      ]
    },
    {
      "cell_type": "code",
      "metadata": {
        "colab": {
          "base_uri": "https://localhost:8080/",
          "height": 312
        },
        "id": "3dYCoy1xMlfZ",
        "outputId": "14f6e2aa-cfca-46e7-d390-2a22387f2ec5"
      },
      "source": [
        "#Gráfico da quantidade de compras no canal com melhor perfomance em relação ao grau de instrução\n",
        "barplot5 = sns.barplot(y = dados['Education'], x = dados['NumStorePurchases'], data = dados, ci = None, estimator = np.sum, color = 'blue')\n",
        "\n",
        "#Título e eixos do gráfico\n",
        "plt.title('Quantidade de Compras Realizadas nas Lojas por Grau de Instrução')\n",
        "plt.ylabel('Grau de Instrução')\n",
        "plt.xlabel('Quantidade')\n",
        "\n",
        "#Rótulos do gráfico\n",
        "plt.figure(figsize=(10,8))\n",
        "barplot5.bar_label(barplot5.containers[0])\n",
        "\n",
        "#Plotagem do gráfico\n",
        "plt.show()"
      ],
      "execution_count": null,
      "outputs": [
        {
          "output_type": "display_data",
          "data": {
            "image/png": "[encoded data removed]",
            "text/plain": [
              "<Figure size 432x288 with 1 Axes>"
            ]
          },
          "metadata": {
            "needs_background": "light"
          }
        },
        {
          "output_type": "display_data",
          "data": {
            "text/plain": [
              "<Figure size 720x576 with 0 Axes>"
            ]
          },
          "metadata": {}
        }
      ]
    },
    {
      "cell_type": "code",
      "metadata": {
        "colab": {
          "base_uri": "https://localhost:8080/",
          "height": 313
        },
        "id": "KPXYZMEaLLKQ",
        "outputId": "b6d6664a-ba15-4d81-b821-0b2196de69bf"
      },
      "source": [
        "#Gráfico da quantidade de compras no canal com melhor perfomance em relação ao número de dependentes\n",
        "barplot6 = sns.barplot(x = dados['Dependentes'], y = dados['NumStorePurchases'], data = dados, ci = None, estimator = np.sum, color = 'blue')\n",
        "\n",
        "#Título e eixos do gráfico\n",
        "plt.title('Quantidade de Compras Realizadas nas Lojas por Número de Dependentes')\n",
        "plt.xlabel('Número de Dependentes')\n",
        "plt.ylabel('Quantidade')\n",
        "\n",
        "#Rótulos do gráfico\n",
        "plt.figure(figsize=(10,8))\n",
        "barplot6.bar_label(barplot6.containers[0])\n",
        "\n",
        "#Plotagem do gráfico\n",
        "plt.show()"
      ],
      "execution_count": null,
      "outputs": [
        {
          "output_type": "display_data",
          "data": {
            "image/png": "[encoded data removed]",
            "text/plain": [
              "<Figure size 432x288 with 1 Axes>"
            ]
          },
          "metadata": {
            "needs_background": "light"
          }
        },
        {
          "output_type": "display_data",
          "data": {
            "text/plain": [
              "<Figure size 720x576 with 0 Axes>"
            ]
          },
          "metadata": {}
        }
      ]
    }
  ]
}